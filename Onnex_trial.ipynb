{
 "cells": [
  {
   "cell_type": "code",
   "execution_count": 1,
   "metadata": {},
   "outputs": [],
   "source": [
    "import pandas as pd \n",
    "import numpy as np\n",
    "import matplotlib.pyplot as plt\n",
    "import seaborn as sns\n",
    "import random\n",
    "import pickle\n"
   ]
  },
  {
   "cell_type": "code",
   "execution_count": 2,
   "metadata": {},
   "outputs": [],
   "source": [
    "from sklearn import preprocessing\n",
    "# Allows us to split our data into training and testing data\n",
    "from sklearn.model_selection import train_test_split\n",
    "# Allows us to test parameters of classification algorithms and find the best one\n",
    "from sklearn.model_selection import GridSearchCV\n",
    "# Logistic Regression classification algorithm\n",
    "from sklearn.linear_model import LogisticRegression , LinearRegression \n",
    "# Support Vector Machine classification algorithm\n",
    "from sklearn.svm import SVC , LinearSVC , NuSVC, OneClassSVM, SVR\n",
    "# Decision Tree classification algorithm\n",
    "from sklearn.tree import DecisionTreeClassifier , ExtraTreeClassifier , DecisionTreeRegressor , ExtraTreeRegressor \n",
    "# K Nearest Neighbors classification algorithm\n",
    "from sklearn.neighbors import KNeighborsClassifier , RadiusNeighborsClassifier , KNeighborsRegressor , RadiusNeighborsRegressor"
   ]
  },
  {
   "cell_type": "code",
   "execution_count": 3,
   "metadata": {},
   "outputs": [],
   "source": [
    "#imports for onnx\n",
    "import onnxruntime as rt \n",
    "from skl2onnx import convert_sklearn ,to_onnx\n",
    "from skl2onnx.common.data_types import FloatTensorType"
   ]
  },
  {
   "cell_type": "code",
   "execution_count": 4,
   "metadata": {},
   "outputs": [],
   "source": [
    "from sklearn import config_context\n",
    "from tqdm import tqdm\n",
    "from skl2onnx.tutorial import measure_time\n",
    "from pandas import DataFrame\n",
    "from onnx.reference import ReferenceEvaluator"
   ]
  },
  {
   "cell_type": "code",
   "execution_count": 5,
   "metadata": {},
   "outputs": [
    {
     "data": {
      "text/html": [
       "<div>\n",
       "<style scoped>\n",
       "    .dataframe tbody tr th:only-of-type {\n",
       "        vertical-align: middle;\n",
       "    }\n",
       "\n",
       "    .dataframe tbody tr th {\n",
       "        vertical-align: top;\n",
       "    }\n",
       "\n",
       "    .dataframe thead th {\n",
       "        text-align: right;\n",
       "    }\n",
       "</style>\n",
       "<table border=\"1\" class=\"dataframe\">\n",
       "  <thead>\n",
       "    <tr style=\"text-align: right;\">\n",
       "      <th></th>\n",
       "      <th>Height</th>\n",
       "      <th>Weight</th>\n",
       "      <th>family_history_with_overweight</th>\n",
       "      <th>SCC</th>\n",
       "      <th>MTRANS_Walking</th>\n",
       "      <th>FAVC_z</th>\n",
       "      <th>FCVC_minmax</th>\n",
       "      <th>NCP_z</th>\n",
       "      <th>CAEC_minmax</th>\n",
       "      <th>CH2O_minmax</th>\n",
       "      <th>FAF_minmax</th>\n",
       "      <th>TUE_z</th>\n",
       "      <th>CALC_z</th>\n",
       "      <th>Age_bin_minmax</th>\n",
       "      <th>NObeyesdad</th>\n",
       "    </tr>\n",
       "  </thead>\n",
       "  <tbody>\n",
       "    <tr>\n",
       "      <th>0</th>\n",
       "      <td>1.62</td>\n",
       "      <td>64.0</td>\n",
       "      <td>1</td>\n",
       "      <td>0</td>\n",
       "      <td>0</td>\n",
       "      <td>2.766876</td>\n",
       "      <td>0.5</td>\n",
       "      <td>0.404704</td>\n",
       "      <td>0.333333</td>\n",
       "      <td>0.5</td>\n",
       "      <td>0.000000</td>\n",
       "      <td>0.550985</td>\n",
       "      <td>1.439033</td>\n",
       "      <td>0.25</td>\n",
       "      <td>1</td>\n",
       "    </tr>\n",
       "    <tr>\n",
       "      <th>1</th>\n",
       "      <td>1.52</td>\n",
       "      <td>56.0</td>\n",
       "      <td>1</td>\n",
       "      <td>1</td>\n",
       "      <td>0</td>\n",
       "      <td>2.766876</td>\n",
       "      <td>1.0</td>\n",
       "      <td>0.404704</td>\n",
       "      <td>0.333333</td>\n",
       "      <td>1.0</td>\n",
       "      <td>1.000000</td>\n",
       "      <td>1.092724</td>\n",
       "      <td>0.516552</td>\n",
       "      <td>0.25</td>\n",
       "      <td>1</td>\n",
       "    </tr>\n",
       "    <tr>\n",
       "      <th>2</th>\n",
       "      <td>1.80</td>\n",
       "      <td>77.0</td>\n",
       "      <td>1</td>\n",
       "      <td>0</td>\n",
       "      <td>0</td>\n",
       "      <td>2.766876</td>\n",
       "      <td>0.5</td>\n",
       "      <td>0.404704</td>\n",
       "      <td>0.333333</td>\n",
       "      <td>0.5</td>\n",
       "      <td>0.666667</td>\n",
       "      <td>0.550985</td>\n",
       "      <td>2.472136</td>\n",
       "      <td>0.50</td>\n",
       "      <td>1</td>\n",
       "    </tr>\n",
       "    <tr>\n",
       "      <th>3</th>\n",
       "      <td>1.80</td>\n",
       "      <td>87.0</td>\n",
       "      <td>0</td>\n",
       "      <td>0</td>\n",
       "      <td>1</td>\n",
       "      <td>2.766876</td>\n",
       "      <td>1.0</td>\n",
       "      <td>0.404704</td>\n",
       "      <td>0.333333</td>\n",
       "      <td>0.5</td>\n",
       "      <td>0.666667</td>\n",
       "      <td>1.092724</td>\n",
       "      <td>2.472136</td>\n",
       "      <td>0.75</td>\n",
       "      <td>2</td>\n",
       "    </tr>\n",
       "    <tr>\n",
       "      <th>4</th>\n",
       "      <td>1.78</td>\n",
       "      <td>89.8</td>\n",
       "      <td>0</td>\n",
       "      <td>0</td>\n",
       "      <td>0</td>\n",
       "      <td>2.766876</td>\n",
       "      <td>0.5</td>\n",
       "      <td>2.164116</td>\n",
       "      <td>0.333333</td>\n",
       "      <td>0.5</td>\n",
       "      <td>0.000000</td>\n",
       "      <td>1.092724</td>\n",
       "      <td>0.516552</td>\n",
       "      <td>0.50</td>\n",
       "      <td>3</td>\n",
       "    </tr>\n",
       "  </tbody>\n",
       "</table>\n",
       "</div>"
      ],
      "text/plain": [
       "   Height  Weight  family_history_with_overweight  SCC  MTRANS_Walking  \\\n",
       "0    1.62    64.0                               1    0               0   \n",
       "1    1.52    56.0                               1    1               0   \n",
       "2    1.80    77.0                               1    0               0   \n",
       "3    1.80    87.0                               0    0               1   \n",
       "4    1.78    89.8                               0    0               0   \n",
       "\n",
       "     FAVC_z  FCVC_minmax     NCP_z  CAEC_minmax  CH2O_minmax  FAF_minmax  \\\n",
       "0  2.766876          0.5  0.404704     0.333333          0.5    0.000000   \n",
       "1  2.766876          1.0  0.404704     0.333333          1.0    1.000000   \n",
       "2  2.766876          0.5  0.404704     0.333333          0.5    0.666667   \n",
       "3  2.766876          1.0  0.404704     0.333333          0.5    0.666667   \n",
       "4  2.766876          0.5  2.164116     0.333333          0.5    0.000000   \n",
       "\n",
       "      TUE_z    CALC_z  Age_bin_minmax  NObeyesdad  \n",
       "0  0.550985  1.439033            0.25           1  \n",
       "1  1.092724  0.516552            0.25           1  \n",
       "2  0.550985  2.472136            0.50           1  \n",
       "3  1.092724  2.472136            0.75           2  \n",
       "4  1.092724  0.516552            0.50           3  "
      ]
     },
     "execution_count": 5,
     "metadata": {},
     "output_type": "execute_result"
    }
   ],
   "source": [
    "obesity = pd.read_csv('estimation_of_obesity_levels_based_on_eating_habits_and_physical_condition.csv')\n",
    "obesity.head()"
   ]
  },
  {
   "cell_type": "code",
   "execution_count": 6,
   "metadata": {},
   "outputs": [],
   "source": [
    "#lets build a multi logistic model and all the features\n",
    "Y = obesity['NObeyesdad']\n",
    "X = obesity.drop(['NObeyesdad'], axis=1)\n",
    "X_train, X_test, Y_train, Y_test = train_test_split(X, Y, test_size=0.2, random_state=0)"
   ]
  },
  {
   "cell_type": "code",
   "execution_count": 21,
   "metadata": {},
   "outputs": [
    {
     "name": "stdout",
     "output_type": "stream",
     "text": [
      "Best parameters: {'C': 10, 'kernel': 'linear'}\n",
      "Accuracy of SVM classifier on test set: 0.96\n"
     ]
    }
   ],
   "source": [
    "#lets build a multi support vector machine model and all the features with grid search\n",
    "parameters ={'C':[0.1,1,10],'kernel':['linear','rbf']}\n",
    "svm = SVC()\n",
    "clf = GridSearchCV(svm, parameters, cv=10)\n",
    "clf.fit(X_train, Y_train)\n",
    "print('Best parameters:', clf.best_params_)\n",
    "Y_pred = clf.predict(X_test)\n",
    "print('Accuracy of SVM classifier on test set: {:.2f}'.format(clf.score(X_test, Y_test)))\n",
    "#make the model with pipeline\n",
    "#save the model\n"
   ]
  },
  {
   "cell_type": "code",
   "execution_count": 24,
   "metadata": {},
   "outputs": [
    {
     "name": "stdout",
     "output_type": "stream",
     "text": [
      "0.9569377990430622\n"
     ]
    }
   ],
   "source": [
    "import pickle\n",
    "filename = 'svm_model.pkl'\n",
    "pickle.dump(clf, open(filename, 'wb'))\n",
    "\n",
    "loaded_model = pickle.load(open(filename , 'rb'))\n",
    "result = loaded_model.score(X_test, Y_test)\n",
    "print(result)\n"
   ]
  },
  {
   "cell_type": "markdown",
   "metadata": {},
   "source": [
    "# 1st trial of onnx issue(collum name not being used)"
   ]
  },
  {
   "cell_type": "code",
   "execution_count": 8,
   "metadata": {},
   "outputs": [],
   "source": [
    "#save the model\n",
    "initial_type = [('float_input', FloatTensorType([None, 14]))]\n",
    "onx = convert_sklearn(clf, initial_types=initial_type)\n",
    "with open(\"obesity_1st_trial.onnx\", \"wb\") as f:\n",
    "    f.write(onx.SerializeToString())"
   ]
  },
  {
   "cell_type": "code",
   "execution_count": 9,
   "metadata": {},
   "outputs": [],
   "source": [
    "sess = rt.InferenceSession(\"obesity.onnx\", providers=[\"CPUExecutionProvider\"])\n",
    "input_name = sess.get_inputs()[0].name\n",
    "label_name = sess.get_outputs()[0].name\n",
    "\n",
    "pred_onx = sess.run([label_name], {input_name: [X_test.iloc[2].values.astype(np.float32)]})[0]"
   ]
  },
  {
   "cell_type": "code",
   "execution_count": 10,
   "metadata": {},
   "outputs": [
    {
     "data": {
      "text/plain": [
       "3"
      ]
     },
     "execution_count": 10,
     "metadata": {},
     "output_type": "execute_result"
    }
   ],
   "source": [
    "pred_onx[0]"
   ]
  },
  {
   "cell_type": "code",
   "execution_count": 11,
   "metadata": {},
   "outputs": [
    {
     "data": {
      "text/plain": [
       "3"
      ]
     },
     "execution_count": 11,
     "metadata": {},
     "output_type": "execute_result"
    }
   ],
   "source": [
    "Y_test.iloc[2]"
   ]
  },
  {
   "cell_type": "code",
   "execution_count": 12,
   "metadata": {},
   "outputs": [
    {
     "data": {
      "text/plain": [
       "'float_input'"
      ]
     },
     "execution_count": 12,
     "metadata": {},
     "output_type": "execute_result"
    }
   ],
   "source": [
    "input_name"
   ]
  },
  {
   "cell_type": "code",
   "execution_count": 13,
   "metadata": {},
   "outputs": [
    {
     "data": {
      "text/plain": [
       "'label'"
      ]
     },
     "execution_count": 13,
     "metadata": {},
     "output_type": "execute_result"
    }
   ],
   "source": [
    "label_name"
   ]
  },
  {
   "cell_type": "code",
   "execution_count": 32,
   "metadata": {},
   "outputs": [
    {
     "name": "stdout",
     "output_type": "stream",
     "text": [
      "ONNX full set  time:  0.04570412635803223\n",
      "SKlearn full set time:  0.00673675537109375\n",
      "ONNX single time:  0.033486127853393555\n",
      "SKlearn single time:  0.0\n"
     ]
    },
    {
     "name": "stderr",
     "output_type": "stream",
     "text": [
      "c:\\Users\\rifat\\miniconda3\\envs\\pycherm\\lib\\site-packages\\sklearn\\base.py:493: UserWarning: X does not have valid feature names, but SVC was fitted with feature names\n",
      "  warnings.warn(\n",
      "c:\\Users\\rifat\\miniconda3\\envs\\pycherm\\lib\\site-packages\\sklearn\\base.py:493: UserWarning: X does not have valid feature names, but SVC was fitted with feature names\n",
      "  warnings.warn(\n"
     ]
    }
   ],
   "source": [
    "import time\n",
    "#compare onx with sklearn time and accuracy\n",
    "X_TEST = X_test.values.astype(np.float32)\n",
    "Y_TEST = Y_test.values.astype(np.float32)\n",
    "\n",
    "def to_onnx_model(X_TEST):\n",
    "    sess = rt.InferenceSession(\"obesity.onnx\", providers=[\"CPUExecutionProvider\"])\n",
    "    input_name = sess.get_inputs()[0].name\n",
    "    label_name = sess.get_outputs()[0].name\n",
    "    pred_onx = sess.run([label_name], {input_name: X_TEST})[0]\n",
    "    pred = pred_onx[0]\n",
    "    return pred\n",
    "\n",
    "def to_sklearn_model(X_TEST):\n",
    "    loaded_model = pickle.load(open(filename , 'rb'))\n",
    "    Y_pred = loaded_model.score(X_TEST, Y_TEST)\n",
    "    return Y_pred\n",
    "\n",
    "\n",
    "def Compare_time(X_TEST):\n",
    "    start = time.time()\n",
    "    to_onnx_model(X_TEST)\n",
    "    end = time.time()\n",
    "    onnx_time = end - start\n",
    "    start = time.time()\n",
    "    to_sklearn_model(X_TEST)\n",
    "    end = time.time()\n",
    "    sklearn_time = end - start\n",
    "    return onnx_time, sklearn_time\n",
    "\n",
    "time_onnx, time_sklearn = Compare_time(X_TEST)\n",
    "print(\"ONNX full set  time: \", time_onnx)\n",
    "print(\"SKlearn full set time: \", time_sklearn)\n",
    "\n",
    "#now compare for single prediction per time whole test set\n",
    "def compare_single_prediction_onnx():\n",
    "    start = time.time()\n",
    "    onnx_preds= to_onnx_model([X_TEST[3]])\n",
    "    end = time.time()\n",
    "    onnx_time = end - start\n",
    "    return onnx_time\n",
    "\n",
    "def compare_single_prediction_sklearn():\n",
    "    start = time.time()\n",
    "    loaded_model = pickle.load(open(filename , 'rb'))\n",
    "    Y_pred = loaded_model.predict([X_TEST[3]])\n",
    "\n",
    "    end = time.time()\n",
    "    sklearn_time = end - start\n",
    "    return sklearn_time\n",
    "\n",
    "onnx_time = compare_single_prediction_onnx()\n",
    "sklearn_time = compare_single_prediction_sklearn()\n",
    "print(\"ONNX single time: \", onnx_time)\n",
    "print(\"SKlearn single time: \", sklearn_time)\n",
    "    "
   ]
  }
 ],
 "metadata": {
  "kernelspec": {
   "display_name": "pycherm",
   "language": "python",
   "name": "python3"
  },
  "language_info": {
   "codemirror_mode": {
    "name": "ipython",
    "version": 3
   },
   "file_extension": ".py",
   "mimetype": "text/x-python",
   "name": "python",
   "nbconvert_exporter": "python",
   "pygments_lexer": "ipython3",
   "version": "3.9.19"
  }
 },
 "nbformat": 4,
 "nbformat_minor": 2
}
